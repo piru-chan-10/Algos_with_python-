{
 "cells": [
  {
   "cell_type": "code",
   "execution_count": 5,
   "id": "b6f63091-98be-4d75-bbb1-4c7e30d12ee9",
   "metadata": {},
   "outputs": [],
   "source": [
    "import math\n",
    "class logistic_regression:\n",
    "    def __init__(self,learning_rate=0.01,max_iter=1000):\n",
    "        self.learning_rate=learning_rate\n",
    "        self.max_iter=max_iter\n",
    "        self.weights=None\n",
    "        self.cost_history=[]\n",
    "    @staticmethod\n",
    "    def _sigmoid(z):\n",
    "        return 1/(1+math.exp(-z))\n",
    "    def initialize_weights(self,n_features):\n",
    "        self.weights=[0,0]*(n_features+1)\n",
    "    def _compute_cost(self,X,y):\n",
    "        total_cost=0\n",
    "        m=len(X)\n",
    "        for i in range(m):\n",
    "            z=self.weights[0]\n",
    "            for j in range(len(X[i])):\n",
    "                z+=self.weights[j+1]*X[i][j]\n",
    "            prediction=self._sigmoid(z)\n",
    "            if y[i]==1:\n",
    "                total_cost+=-math.log(prediction)\n",
    "            else:\n",
    "                total_cost+=-math.log(1-prediction)\n",
    "    def fit(self,X,y):\n",
    "        n_features=len(X[0]) if X else 0\n",
    "        self._initialize_weigths(n_features)\n",
    "        m=len(X)\n",
    "        for iteration in range(self.max_iter):\n",
    "            gradient_bias=0\n",
    "            gradient_weights=[0]*n_features\n",
    "            for i in range(m):\n",
    "                z=self.weights[0]\n",
    "                for j in range(n_features):\n",
    "                    z+=self.weights[j+1]*X[i][j]\n",
    "                prediction=self._sigmoid(z)\n",
    "                error=prediction-y[i]\n",
    "                gradient_bias+=error\n",
    "                for j in range(n_features):\n",
    "                    gradient_weights[j]+=error*X[i][j]\n",
    "            self.weights[0]-=(self.learning_rate*gradient_bias)/m\n",
    "            for j in range(n_features):\n",
    "                self.weights[j+1]-=(self.learning_rate*gradient_weights[j])/m\n",
    "            if iteration%100==0:\n",
    "                self.cost_history.append(self._compute_cost(X,y))\n",
    "    def predict_prob(self,X):\n",
    "        probabilities=[]\n",
    "        for features in X:\n",
    "            z=self.weights[0]\n",
    "            for j in range(len(features)):\n",
    "                z+=self.weights[j+1]*features[j]\n",
    "            probabilities.append(self._sigmoid(z))\n",
    "        return probabilities\n",
    "    def predict(self,X,threshold=0.5):\n",
    "        return [1 if p>=threshold else 0 for p in self.predict_prob(X)]\n",
    "    def get_weights(self):\n",
    "        return {\n",
    "            'bias':self.weights[0],\n",
    "            'coefficients':self.weights[1:]\n",
    "        }"
   ]
  },
  {
   "cell_type": "code",
   "execution_count": 3,
   "id": "723b9837-4c53-4f54-ade1-8f047b217693",
   "metadata": {},
   "outputs": [
    {
     "data": {
      "text/plain": [
       "[[1, 0], [2, 0], [3, 1], [4, 1], [1, 1]]"
      ]
     },
     "execution_count": 3,
     "metadata": {},
     "output_type": "execute_result"
    }
   ],
   "source": [
    "data=[[1,0],[2,0],[3,1],[4,1],[1,1],[2,1],[2.5,0]] \n",
    "data[:5]"
   ]
  },
  {
   "cell_type": "code",
   "execution_count": 34,
   "id": "e97f87dd-c722-4cd8-b663-23ccc5c94f11",
   "metadata": {
    "scrolled": true
   },
   "outputs": [
    {
     "data": {
      "text/plain": [
       "4"
      ]
     },
     "execution_count": 34,
     "metadata": {},
     "output_type": "execute_result"
    }
   ],
   "source": [
    "def trace(arr:list)->int:\n",
    "    flat_mat=[arr[i][j] for i in range(len(arr[0])) for j in range(len(arr))]\n",
    "    return sum([flat_mat[i] for i in range(len(flat_mat)) if flat_mat[i]==1])\n",
    "x=[[1,0,0,0],[0,0,1,0],[0,0,0,1],[0,1,0,0]]\n",
    "trace(x)"
   ]
  },
  {
   "cell_type": "code",
   "execution_count": 33,
   "id": "2ed99757-7fe6-4d86-8b8a-0e199ba427eb",
   "metadata": {},
   "outputs": [],
   "source": [
    "import numpy as np "
   ]
  },
  {
   "cell_type": "code",
   "execution_count": 103,
   "id": "47a8c26d-f54c-404b-99da-1577352b7648",
   "metadata": {},
   "outputs": [
    {
     "data": {
      "text/plain": [
       "-59"
      ]
     },
     "execution_count": 103,
     "metadata": {},
     "output_type": "execute_result"
    }
   ],
   "source": [
    "arr=[[1,3,2],[5,10,3],[5,3,5]]\n",
    "def det(arr:list[int|float]):\n",
    "    det_list=arr[0]\n",
    "    ig_col=[]\n",
    "    det:int|float=0\n",
    "    calc_2=lambda arr:arr[0]*arr[len(arr)-1]-arr[1]*arr[len(arr)-2]\n",
    "    for i in range(len(arr)):\n",
    "        temp=[0,i]\n",
    "        full_arr=[[i,j] for i in range(len(arr)) for j in range(len(arr))]\n",
    "        ignore_row=[[0,j] for j in range(len(arr)) if [0,j]!=temp]\n",
    "        ignore_col=[[j,i] for j in range(len(arr)) ]\n",
    "        \n",
    "        ignore=ignore_col+ignore_row\n",
    "        temp_row=[[i,j] for i in range(len(arr)) for j in range(len(arr)) if [i,j] not in ignore]\n",
    "        x=[arr[i][j] for i in range(len(arr)) for j in range(len(arr)) if [i,j] not in ignore]\n",
    "        det+=calc_2(x)*det_list[i] if i!=1 else -1*(det_list[i]*calc_2(x))\n",
    "    return det\n",
    "    \n",
    "    \n",
    "det(arr)"
   ]
  },
  {
   "cell_type": "code",
   "execution_count": 22,
   "id": "56fccc32-8905-4ac4-b108-8a76af914d94",
   "metadata": {},
   "outputs": [
    {
     "data": {
      "text/plain": [
       "-59"
      ]
     },
     "execution_count": 22,
     "metadata": {},
     "output_type": "execute_result"
    }
   ],
   "source": [
    "arr=[[1,3,2],[5,10,3],[5,3,5]]\n",
    "def det(arr:list[int|float]):\n",
    "    det_list=arr[0]\n",
    "    ig_col=[]\n",
    "    det:int|float=0\n",
    "    calc_2=lambda arr:arr[0]*arr[len(arr)-1]-arr[1]*arr[len(arr)-2]\n",
    "    for i in range(len(arr)):\n",
    "        temp=[0,i]\n",
    "        full_arr=[[i,j] for i in range(len(arr)) for j in range(len(arr))]\n",
    "        ignore_row=[[0,j] for j in range(len(arr)) if [0,j]!=temp]\n",
    "        ignore_col=[[j,i] for j in range(len(arr)) ]\n",
    "        \n",
    "        ignore=ignore_col+ignore_row\n",
    "        temp_row=[[i,j] for i in range(len(arr)) for j in range(len(arr)) if [i,j] not in ignore]\n",
    "        x=[arr[i][j] for i in range(len(arr)) for j in range(len(arr)) if [i,j] not in ignore]\n",
    "        det+=calc_2(x)*det_list[i] if i!=1 else -1*(det_list[i]*calc_2(x))\n",
    "    return det\n",
    "    \n",
    "    \n",
    "det(arr)"
   ]
  },
  {
   "cell_type": "code",
   "execution_count": 45,
   "id": "e83b5d69-7e37-4f48-9e27-d9d12a7c8cf2",
   "metadata": {},
   "outputs": [
    {
     "data": {
      "text/plain": [
       "[[72, 108, 107], [186, 88, 80], [116, 45, 42]]"
      ]
     },
     "execution_count": 45,
     "metadata": {},
     "output_type": "execute_result"
    }
   ],
   "source": [
    "''' custome implementation of matrix multiplication \n",
    "'''\n",
    "def multiply(arr1,arr2)->list:\n",
    "    assert len(arr1[0])==len(arr2), \"ERROR:: for arr1=5X6 arr2 should be 6X5  \"\n",
    "    res=[[0]*len(arr1)]*len(arr1)\n",
    "    temp=[]\n",
    "    for i in range(len(arr1)):\n",
    "        for j in range(len(arr1)):\n",
    "            x=[k[j] for k in arr2]\n",
    "            y=arr1[i]\n",
    "            z=sum([x[n]*y[n] for n in range(len(x))])\n",
    "            temp.append(z)\n",
    "           \n",
    "            \n",
    "    temp=reshape(temp,len(arr1),len(arr1))\n",
    "            \n",
    "    return temp \n",
    "    \n",
    "    \n",
    "    \n",
    "arr1=[[1,3,2],[4,2,4],[2,1,3]]\n",
    "arr2=[[23,4,1],[1,34,34],[23,1,2]]\n",
    "multiply(arr1,arr2)"
   ]
  },
  {
   "cell_type": "code",
   "execution_count": 23,
   "id": "f5fcec3b-946f-4ccd-9005-a37bb3f92c5d",
   "metadata": {},
   "outputs": [
    {
     "data": {
      "text/plain": [
       "[[2, 56, 4, 56, 66, 3], [3, 3, 5, 6, 5, 6], [5, 4, 67, 4, 7, 67]]"
      ]
     },
     "execution_count": 23,
     "metadata": {},
     "output_type": "execute_result"
    }
   ],
   "source": [
    "def transpose(l):\n",
    "    columns=len(l[0])\n",
    "    rows=len(l)\n",
    "    r=[]\n",
    "    i=[]\n",
    "    for column in range(columns):\n",
    "        for row in range(rows):\n",
    "            r.append(l[row][column])\n",
    "    return reshape(r,rows=columns,columns=rows)\n",
    "def reshape(matrix,rows,columns): \n",
    "    res=[[None]*columns]*rows\n",
    "    k,i=0,columns\n",
    "    for row in range(rows):\n",
    "        res[row]=matrix[0:][k:i]\n",
    "        k=i\n",
    "        i+=columns\n",
    "    return res\n",
    "        \n",
    "    \n",
    "             \n",
    "transpose([[2,3,5],[56,3,4],[4,5,67],[56,6,4],[66,5,7],[3,6,67]])"
   ]
  },
  {
   "cell_type": "code",
   "execution_count": 3,
   "id": "e86505c1-4582-487f-a541-f11ea4fcec83",
   "metadata": {},
   "outputs": [
    {
     "data": {
      "text/plain": [
       "([[0.7071067811865475, 0.40824829046386313, -0.5773502691896256],\n",
       "  [0.7071067811865475, -0.40824829046386296, 0.5773502691896258],\n",
       "  [0.0, 0.8164965809277261, 0.5773502691896255]],\n",
       " [[1.414213562373095, 0.7071067811865475, 0.7071067811865475],\n",
       "  [0, 1.2247448713915894, 0.4082482904638632],\n",
       "  [0, 0, 1.1547005383792515]])"
      ]
     },
     "execution_count": 3,
     "metadata": {},
     "output_type": "execute_result"
    }
   ],
   "source": [
    "\n",
    "\n",
    "\n",
    "# def eig(matrix):\n",
    "#     ''' we are gonna use the QR algorithm for it '''\n",
    "#     assert len(matrix)==len(matrix[0]),\"fuck you bitch it is not square matrix\"\n",
    "#     is_1=lambda val:  1 if val in [[0,0],[1,1],[2,2]]  else 0 \n",
    "    \n",
    "#     I=[[is_1([i,j]) for i in range(len(matrix))] for j in range(len(matrix)) ]\n",
    "#     return  [ [matrix[j][i]-I[j][i] for i in range(len(matrix))]  for j in range(len(matrix))]\n",
    "def QR_decomposer(matrix):\n",
    "    import math\n",
    "    assert len(matrix)==len(matrix),'it should be a square matrix dumb ass '\n",
    "    dot=lambda m1,m2: sum([m1[i]*m2[i] for i in range(len(m1))])\n",
    "    norm=lambda m: math.sqrt(sum([m[i]**2 for i in range(len(m))]))\n",
    "    a1=[matrix[i][0] for i in range(len(matrix))]\n",
    "    a2=[matrix[i][1] for i  in range(len(matrix))]\n",
    "    a3=[matrix[i][2] for i in range(len(matrix))]\n",
    "    e1=[(a1[i]/(norm(a1))) for i in range(len(a1))]\n",
    "    u2=[(a2[i]-dot(a2,e1)*e1[i]) for i in range(len(a2))]\n",
    "    e2=[(u2[i]/norm(u2)) for i in range(len(u2))]\n",
    "    u3=[(a3[i]-((dot(a3,e1)*e1[i])+(dot(a3,e2)*e2[i]))) for i in range(len(a3))]\n",
    "    e3=[(u3[i]/norm(u3)) for i in range(len(u3))]\n",
    "    temp=[e1,e2,e3]\n",
    "    Q=[[temp[i][j] for i in range(len(temp))] for j in range(len(temp))] \n",
    "    row_fil=[a1,a2,a3]\n",
    "    row_fill2=[e1,e2,e3]\n",
    "    fill_val=lambda val: 0 if val in [[1,0],[2,0],[2,1]] else dot(row_fil[val[1]],row_fill2[val[0]]) \n",
    "    R=[[fill_val([j,i]) for i in range(3)]for j in range(3)]\n",
    "    return Q,R\n",
    "\n",
    "\n",
    "    \n",
    "\n",
    "QR_decomposer([[1,1,0],[1,0,1],[0,1,1]])"
   ]
  },
  {
   "cell_type": "code",
   "execution_count": 74,
   "id": "33527099-06e2-45af-8e75-269998c4b07b",
   "metadata": {
    "scrolled": true
   },
   "outputs": [
    {
     "data": {
      "text/plain": [
       "False"
      ]
     },
     "execution_count": 74,
     "metadata": {},
     "output_type": "execute_result"
    }
   ],
   "source": [
    "\n",
    "[].append(20)\n",
    "\n",
    "\n",
    "def orthogonal_valid(matrix):\n",
    "    assert len(matrix)==len(matrix[0]),\"valid for square matrix yu fuckin donkey\"\n",
    "    is_1=lambda val:  1 if val in [[0,0],[1,1],[2,2]]  else 0 \n",
    "    I=[[is_1([i,j]) for i in range(len(matrix))] for j in range(len(matrix)) ]\n",
    "    return multiply(matrix,transpose(matrix))==I\n",
    "\n",
    "\n",
    "\n",
    "orthogonal_valid([[1,1,0],[1,0,1],[0,1,1]])"
   ]
  },
  {
   "cell_type": "code",
   "execution_count": 44,
   "id": "81d88a87-1ccf-4f22-9aa8-7b3e0e6d77ae",
   "metadata": {},
   "outputs": [
    {
     "data": {
      "text/plain": [
       "[[1, 2, 3], [0, 2, 1], [0, 0, 1]]"
      ]
     },
     "execution_count": 44,
     "metadata": {},
     "output_type": "execute_result"
    }
   ],
   "source": [
    "''' makes an upper triangular matrix '''\n",
    "def upper_triangle(matrix):\n",
    "    fill=lambda val:0 if val in [[1,0],[2,0],[2,1]] else matrix[val[0]][val[1]]\n",
    "    return [[fill([j,i]) for i in range(3)]for j in range(3)]\n",
    "matrix=[[1,2,3],[3,2,1],[3,2,1]]\n",
    "upper_triangle(matrix)"
   ]
  },
  {
   "cell_type": "code",
   "execution_count": 5,
   "id": "f41f5f9c-4cbc-4463-8a52-eb3376d3d30c",
   "metadata": {},
   "outputs": [
    {
     "data": {
      "text/plain": [
       "2"
      ]
     },
     "execution_count": 5,
     "metadata": {},
     "output_type": "execute_result"
    }
   ],
   "source": [
    "''' return the max indice of a matrix '''\n",
    "def argmax(arr):\n",
    "    assert arr[0]!=int,\"array should be 1 dimenional\"\n",
    "    x=[i for i in range(len(arr))]\n",
    "    return max(x)\n",
    "argmax([1,3,4])\n",
    "    "
   ]
  },
  {
   "cell_type": "code",
   "execution_count": 96,
   "id": "3df2306f-657d-47a6-bcc4-2d3bab360790",
   "metadata": {},
   "outputs": [
    {
     "data": {
      "text/plain": [
       "[[1, 0, 0], [0, 1, 0], [0, 0, 1]]"
      ]
     },
     "execution_count": 96,
     "metadata": {},
     "output_type": "execute_result"
    }
   ],
   "source": [
    "''' how to make a diagonal matrix  '''\n",
    "def diag():\n",
    "    row,col=3,3\n",
    "    is_valid=lambda val: 1 if val in [[0,0],[1,1],[2,2]] else 0\n",
    "    return [[is_valid([j,i]) for i in range(col) ] for j in range(row)]\n",
    "diag() "
   ]
  },
  {
   "cell_type": "code",
   "execution_count": null,
   "id": "189cb96f-e403-4e22-a5fb-e15939ac2042",
   "metadata": {},
   "outputs": [],
   "source": []
  },
  {
   "cell_type": "code",
   "execution_count": null,
   "id": "34619123-6a8f-4334-a54f-0764879bf219",
   "metadata": {},
   "outputs": [],
   "source": []
  },
  {
   "cell_type": "code",
   "execution_count": 3,
   "id": "71b062ae-ecdd-47b6-bc1b-197cf5d74dfe",
   "metadata": {},
   "outputs": [
    {
     "data": {
      "text/plain": [
       "(array([-0.70710678, -0.40824829,  0.57735027]),\n",
       " array([[-0.70710678,  0.40824829, -0.57735027],\n",
       "        [-0.70710678, -0.40824829,  0.57735027],\n",
       "        [-0.        ,  0.81649658,  0.57735027]]))"
      ]
     },
     "execution_count": 3,
     "metadata": {},
     "output_type": "execute_result"
    }
   ],
   "source": [
    "import numpy as np\n",
    "x,y =np.linalg.qr([[1,1,0],[1,0,1],[0,1,1]])\n",
    "np.diag(x),x"
   ]
  },
  {
   "cell_type": "code",
   "execution_count": 12,
   "id": "0d381394-f8c2-489d-a072-d8a6dcc3ed4d",
   "metadata": {},
   "outputs": [],
   "source": [
    "def forward_propogation():\n",
    "    pass\n",
    "import math"
   ]
  },
  {
   "cell_type": "code",
   "execution_count": 70,
   "id": "d0d5c55a-17df-4ffe-94aa-793db58da980",
   "metadata": {},
   "outputs": [
    {
     "data": {
      "text/plain": [
       "array([[-0.16061471, -0.16025957,  0.0059238 ,  0.13741752,  0.35315246],\n",
       "       [-0.29075337, -0.03293983,  0.12939195, -0.54396757, -0.23191496],\n",
       "       [ 0.4121396 ,  0.02060898,  0.00726237,  0.16082287,  0.22030385],\n",
       "       [-0.13263735,  0.61858634,  0.615989  , -0.62549158,  0.73580714]])"
      ]
     },
     "execution_count": 70,
     "metadata": {},
     "output_type": "execute_result"
    }
   ],
   "source": [
    "np.random.randn(4,5)*np.sqrt(2./10)\n"
   ]
  },
  {
   "cell_type": "code",
   "execution_count": null,
   "id": "8e4b787c-209f-4ffe-9806-6c4fd0324456",
   "metadata": {},
   "outputs": [],
   "source": []
  },
  {
   "cell_type": "code",
   "execution_count": 66,
   "id": "e4a2761c-8184-4373-ae56-1cc664f8f4b1",
   "metadata": {},
   "outputs": [
    {
     "data": {
      "text/plain": [
       "array([[  8,  11, 112],\n",
       "       [ 24,  33, 336],\n",
       "       [ 32,  44, 448]])"
      ]
     },
     "execution_count": 66,
     "metadata": {},
     "output_type": "execute_result"
    }
   ],
   "source": [
    "x=np.array([[1,2],[3,6],[4,8]])\n",
    "y=np.array([[4,5,2],[2,3,55]])\n",
    "np.dot(x,y)"
   ]
  },
  {
   "cell_type": "code",
   "execution_count": 60,
   "id": "31c4c3b7-7f1d-43a7-92b7-c2ed93b4ff46",
   "metadata": {},
   "outputs": [],
   "source": [
    "class NN:\n",
    "    def __init__(self,input_size,hidden_size,output_size):\n",
    "        self.params={\n",
    "            \"W1\":np.random.randn(hidden_size,input_size)*np.sqrt(2./input_size),\n",
    "            \"b1\":np.zeros((hidden_size,1)),\n",
    "            \"W2\":np.random.randn(output_size,hidden_size)*np.sqrt(2./hidden_size),\n",
    "            \"b2\":np.zeros((output_size,1))\n",
    "        }\n",
    "    def sigmoid(self,z):\n",
    "        return 1/(1+np.exp(z))\n",
    "    def ReLU(self,z):\n",
    "        return np.maximum(0,z)\n",
    "    def sigmoid_derivative(self,z):\n",
    "        s=self.sigmoid(z)\n",
    "        return s*(1-s)\n",
    "    def ReLU_derivative(self,z):\n",
    "        return (z>0).astype(float)\n",
    "    def forward_propogation(self,X):\n",
    "        W1,b1,W2,b2=self.params[\"W1\"],Self.params[\"b1\"],self.params[\"W2\"],self.params[\"b2\"]\n",
    "        z1=np.dot(W1,X)+b1\n",
    "        A1=self.ReLU(z1) \n",
    "        z2=np.dot(W2,A1)+b2\n",
    "        A2=self.sigmoid(z2)\n",
    "        self.cache={\"Z1\":z1,\"A1\":A1,\"Z2\":z2,\"A2\":A2}\n",
    "        return A2\n",
    "    def compute_cost(self,A2,Y):\n",
    "        m=Y.shape[1]\n",
    "        A1=self.cache[\"A1\"]\n",
    "        A2=self.cache[\"A2\"]\n",
    "        W2=self.cache[\"W2\"]\n",
    "        dz2=A2-Y\n",
    "        dw2=np.dot(dz2,A1.T)\n",
    "\n",
    "''\n",
    "    \n",
    "        "
   ]
  },
  {
   "cell_type": "code",
   "execution_count": null,
   "id": "2352c841-b052-4ed5-a97f-8a525bfb9965",
   "metadata": {},
   "outputs": [],
   "source": [
    "pow"
   ]
  }
 ],
 "metadata": {
  "kernelspec": {
   "display_name": "Python 3 (ipykernel)",
   "language": "python",
   "name": "python3"
  },
  "language_info": {
   "codemirror_mode": {
    "name": "ipython",
    "version": 3
   },
   "file_extension": ".py",
   "mimetype": "text/x-python",
   "name": "python",
   "nbconvert_exporter": "python",
   "pygments_lexer": "ipython3",
   "version": "3.13.0"
  },
  "widgets": {
   "application/vnd.jupyter.widget-state+json": {
    "state": {},
    "version_major": 2,
    "version_minor": 0
   }
  }
 },
 "nbformat": 4,
 "nbformat_minor": 5
}
